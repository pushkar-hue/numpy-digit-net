{
  "nbformat": 4,
  "nbformat_minor": 0,
  "metadata": {
    "colab": {
      "provenance": [],
      "authorship_tag": "ABX9TyOLfYNuIvGJAmtGmkkk6IaY",
      "include_colab_link": true
    },
    "kernelspec": {
      "name": "python3",
      "display_name": "Python 3"
    },
    "language_info": {
      "name": "python"
    }
  },
  "cells": [
    {
      "cell_type": "markdown",
      "metadata": {
        "id": "view-in-github",
        "colab_type": "text"
      },
      "source": [
        "<a href=\"https://colab.research.google.com/github/pushkar-hue/numpy-digit-net/blob/main/numpy_digit_net.ipynb\" target=\"_parent\"><img src=\"https://colab.research.google.com/assets/colab-badge.svg\" alt=\"Open In Colab\"/></a>"
      ]
    },
    {
      "cell_type": "code",
      "source": [
        "import kagglehub\n",
        "\n",
        "# Download latest version\n",
        "path = kagglehub.dataset_download(\"oddrationale/mnist-in-csv\")\n",
        "\n",
        "print(\"Path to dataset files:\", path)"
      ],
      "metadata": {
        "colab": {
          "base_uri": "https://localhost:8080/"
        },
        "id": "axFcQVL5DdTZ",
        "outputId": "4d7f2f0b-efd9-40f9-ed1e-e2d8d0cf60be"
      },
      "execution_count": null,
      "outputs": [
        {
          "output_type": "stream",
          "name": "stdout",
          "text": [
            "Path to dataset files: /kaggle/input/mnist-in-csv\n"
          ]
        }
      ]
    },
    {
      "cell_type": "code",
      "execution_count": null,
      "metadata": {
        "id": "nw7TbaT8DbWQ"
      },
      "outputs": [],
      "source": [
        "import numpy as np\n",
        "import pandas as pd\n",
        "import matplotlib.pyplot as plt"
      ]
    },
    {
      "cell_type": "code",
      "source": [
        "df_train = pd.read_csv(path + \"/mnist_train.csv\")\n",
        "df_test = pd.read_csv(path + \"/mnist_test.csv\")\n",
        "\n",
        "df_train.shape, df_test.shape"
      ],
      "metadata": {
        "colab": {
          "base_uri": "https://localhost:8080/"
        },
        "id": "sD9dk2DNDiV5",
        "outputId": "166d64cc-1034-4629-ce09-1bd9a4a8b015"
      },
      "execution_count": null,
      "outputs": [
        {
          "output_type": "execute_result",
          "data": {
            "text/plain": [
              "((60000, 785), (10000, 785))"
            ]
          },
          "metadata": {},
          "execution_count": 384
        }
      ]
    },
    {
      "cell_type": "code",
      "source": [
        "data_train = df_train.to_numpy().T\n",
        "data_test = df_test.to_numpy().T\n",
        "\n",
        "data_train.shape, data_test.shape"
      ],
      "metadata": {
        "colab": {
          "base_uri": "https://localhost:8080/"
        },
        "id": "FX_QZUxfDsx8",
        "outputId": "d53de57b-2793-4ca0-efe1-e37ba2d7a955"
      },
      "execution_count": null,
      "outputs": [
        {
          "output_type": "execute_result",
          "data": {
            "text/plain": [
              "((785, 60000), (785, 10000))"
            ]
          },
          "metadata": {},
          "execution_count": 385
        }
      ]
    },
    {
      "cell_type": "code",
      "source": [
        "data_train = data_train[:, :10000]\n",
        "data_test = data_test[:, :2000]\n",
        "\n",
        "data_train.shape, data_test.shape"
      ],
      "metadata": {
        "colab": {
          "base_uri": "https://localhost:8080/"
        },
        "id": "vVmPYOR9EI_Z",
        "outputId": "c68ca79d-dc03-454c-cf35-d3b26b057d0a"
      },
      "execution_count": null,
      "outputs": [
        {
          "output_type": "execute_result",
          "data": {
            "text/plain": [
              "((785, 10000), (785, 2000))"
            ]
          },
          "metadata": {},
          "execution_count": 386
        }
      ]
    },
    {
      "cell_type": "code",
      "source": [
        "X_train, Y_train = data_train[1:, :], data_train[0, :]\n",
        "X_test, Y_test = data_test[1:, :], data_test[0, :]\n",
        "X_train = X_train / 255.0\n",
        "X_test = X_test / 255.0\n",
        "\n",
        "X_train.shape, X_test.shape, Y_train.shape, Y_test.shape"
      ],
      "metadata": {
        "colab": {
          "base_uri": "https://localhost:8080/"
        },
        "id": "Ty82jcMqEmYz",
        "outputId": "785dfa68-714e-4089-ed5a-2a23446bd0dd"
      },
      "execution_count": null,
      "outputs": [
        {
          "output_type": "execute_result",
          "data": {
            "text/plain": [
              "((784, 10000), (784, 2000), (10000,), (2000,))"
            ]
          },
          "metadata": {},
          "execution_count": 387
        }
      ]
    },
    {
      "cell_type": "code",
      "source": [
        "x = np.random.randn(784, 10)\n",
        "x[1]"
      ],
      "metadata": {
        "colab": {
          "base_uri": "https://localhost:8080/"
        },
        "id": "3H1mGYsoFfE_",
        "outputId": "26df0a14-159a-4331-d1b0-c6414811596e"
      },
      "execution_count": null,
      "outputs": [
        {
          "output_type": "execute_result",
          "data": {
            "text/plain": [
              "array([ 0.664926  , -0.78287108, -1.02672679, -1.28193777,  0.32758091,\n",
              "        1.21877244,  0.79271578, -2.17087597, -1.09128951, -0.72527561])"
            ]
          },
          "metadata": {},
          "execution_count": 388
        }
      ]
    },
    {
      "cell_type": "code",
      "source": [
        "def initialize_parameters():\n",
        "    W1 = np.random.randn(128, 784) * np.sqrt(2.0/784)  # Larger hidden layer\n",
        "    B1 = np.zeros((128, 1))\n",
        "    W2 = np.random.randn(10, 128) * np.sqrt(2.0/128)\n",
        "    B2 = np.zeros((10, 1))\n",
        "    return W1, B1, W2, B2\n"
      ],
      "metadata": {
        "id": "taEoHw7mHNl2"
      },
      "execution_count": null,
      "outputs": []
    },
    {
      "cell_type": "code",
      "source": [
        "def Relu(Z):\n",
        "  return np.maximum(Z, 0)"
      ],
      "metadata": {
        "id": "f2IyLMlxJrUI"
      },
      "execution_count": null,
      "outputs": []
    },
    {
      "cell_type": "code",
      "source": [
        "def softmax(Z):\n",
        "  Z_stable = Z - np.max(Z, axis=0, keepdims=True)\n",
        "  exp_Z = np.exp(Z_stable)\n",
        "  return exp_Z / np.sum(exp_Z, axis=0, keepdims=True)\n"
      ],
      "metadata": {
        "id": "hhEhO9SkKGCI"
      },
      "execution_count": null,
      "outputs": []
    },
    {
      "cell_type": "code",
      "source": [
        "def forward_prop(W1, B1, W2, B2, X):\n",
        "  Z1 = np.dot(W1, X) + B1\n",
        "  A1 = Relu(Z1)\n",
        "  Z2 = np.dot(W2, A1) + B2\n",
        "  A2 = softmax(Z2)\n",
        "  return Z1, A1, Z2, A2"
      ],
      "metadata": {
        "id": "OYTcEmtFJNVD"
      },
      "execution_count": null,
      "outputs": []
    },
    {
      "cell_type": "code",
      "source": [
        "def one_hot(Y):\n",
        "  one_hot_Y = np.zeros((Y.size, Y.max() + 1))\n",
        "  one_hot_Y[np.arange(Y.size), Y] = 1\n",
        "  one_hot_Y = one_hot_Y.T\n",
        "  return one_hot_Y"
      ],
      "metadata": {
        "id": "Wnf7f_RrJPNl"
      },
      "execution_count": null,
      "outputs": []
    },
    {
      "cell_type": "code",
      "source": [
        "def deriv_Relu(Z):\n",
        "  return Z > 0"
      ],
      "metadata": {
        "id": "8PAU7HosOzSU"
      },
      "execution_count": null,
      "outputs": []
    },
    {
      "cell_type": "code",
      "source": [
        "def back_prop(Z1, A1, Z2, A2, W2, X, Y):\n",
        "  m = Y.size\n",
        "  one_hot_Y = one_hot(Y)\n",
        "  d_z2 = A2 - one_hot_Y\n",
        "  d_w2 = 1 / m * np.dot(d_z2, A1.T)\n",
        "  d_b2 = 1 / m * np.sum(d_z2, axis=1, keepdims=True)\n",
        "  d_z1 = np.dot(W2.T, d_z2) * deriv_Relu(Z1)\n",
        "  d_w1 = 1 / m * np.dot(d_z1, X.T)\n",
        "  d_b1 = 1 / m * np.sum(d_z1, axis=1, keepdims=True)\n",
        "  return d_w1, d_b1, d_w2, d_b2"
      ],
      "metadata": {
        "id": "UUTfQAuzNBX-"
      },
      "execution_count": null,
      "outputs": []
    },
    {
      "cell_type": "code",
      "source": [
        "def update_params(W1, B1, W2, B2, d_w1, d_b1, d_w2, d_b2, alpha):\n",
        "  W1 = W1 - alpha * d_w1\n",
        "  B1 = B1 - alpha * d_b1\n",
        "  W2 = W2 - alpha * d_w2\n",
        "  B2 = B2 - alpha * d_b2\n",
        "  return W1, B1, W2, B2"
      ],
      "metadata": {
        "id": "tzTfSrT9PHYn"
      },
      "execution_count": null,
      "outputs": []
    },
    {
      "cell_type": "code",
      "source": [
        "def get_predictions(A2):\n",
        "  return np.argmax(A2, 0)"
      ],
      "metadata": {
        "id": "AD4rycfGQYHV"
      },
      "execution_count": null,
      "outputs": []
    },
    {
      "cell_type": "code",
      "source": [
        "def get_accuracy(predictions, Y):\n",
        "  return np.sum(predictions == Y) / Y.size"
      ],
      "metadata": {
        "id": "2AuYY6uUQf72"
      },
      "execution_count": null,
      "outputs": []
    },
    {
      "cell_type": "code",
      "source": [
        "def compute_loss(A2, Y):\n",
        "    m = Y.size\n",
        "    one_hot_Y = one_hot(Y)\n",
        "    return -np.sum(one_hot_Y * np.log(A2 + 1e-8)) / m  # +1e-8 for stability"
      ],
      "metadata": {
        "id": "62PAhHpjWHEH"
      },
      "execution_count": null,
      "outputs": []
    },
    {
      "cell_type": "code",
      "source": [
        "def gradient_descent(X, Y, alpha, iterations):\n",
        "    W1, B1, W2, B2 = initialize_parameters()\n",
        "\n",
        "    for i in range(iterations):\n",
        "        Z1, A1, Z2, A2 = forward_prop(W1, B1, W2, B2, X_train)\n",
        "        dW1, dB1, dW2, dB2 = back_prop(Z1, A1, Z2, A2, W2, X, Y)\n",
        "        W1, B1, W2, B2 = update_params(W1, B1, W2, B2, dW1, dB1, dW2, dB2, alpha)\n",
        "\n",
        "        if i % 50 == 0:\n",
        "            predictions = get_predictions(A2)\n",
        "            acc = get_accuracy(predictions, Y)\n",
        "            loss = compute_loss(A2, Y)\n",
        "            print(f\"Iteration {i}: Acc={acc:.4f}, Loss={loss:.4f}\")\n",
        "\n",
        "    return W1, B1, W2, B2"
      ],
      "metadata": {
        "id": "2pVvsvsePxBo"
      },
      "execution_count": null,
      "outputs": []
    },
    {
      "cell_type": "code",
      "source": [],
      "metadata": {
        "id": "V2rmQvuKcHpe"
      },
      "execution_count": null,
      "outputs": []
    },
    {
      "cell_type": "code",
      "source": [
        "W1, B1, W2, B2 = gradient_descent(X_train, Y_train, 0.01, 600)"
      ],
      "metadata": {
        "colab": {
          "base_uri": "https://localhost:8080/"
        },
        "id": "Yvto4s5JQDSx",
        "outputId": "2feb2061-e09e-4f56-c9b2-5a4f69c1c5e2"
      },
      "execution_count": null,
      "outputs": [
        {
          "output_type": "stream",
          "name": "stdout",
          "text": [
            "Iteration 0: Acc=0.0903, Loss=2.4173\n",
            "Iteration 50: Acc=0.5150, Loss=1.8888\n",
            "Iteration 100: Acc=0.6805, Loss=1.5262\n",
            "Iteration 150: Acc=0.7399, Loss=1.2543\n",
            "Iteration 200: Acc=0.7765, Loss=1.0619\n",
            "Iteration 250: Acc=0.8017, Loss=0.9259\n",
            "Iteration 300: Acc=0.8175, Loss=0.8272\n",
            "Iteration 350: Acc=0.8297, Loss=0.7532\n",
            "Iteration 400: Acc=0.8403, Loss=0.6960\n",
            "Iteration 450: Acc=0.8490, Loss=0.6506\n",
            "Iteration 500: Acc=0.8572, Loss=0.6138\n",
            "Iteration 550: Acc=0.8626, Loss=0.5832\n"
          ]
        }
      ]
    },
    {
      "cell_type": "code",
      "source": [
        "def make_predictions(X, W1, B1, W2, B2):\n",
        "  _, _, _, A2 = forward_prop(W1, B1, W2, B2, X)\n",
        "  predictions = get_predictions(A2)\n",
        "  return predictions"
      ],
      "metadata": {
        "id": "DjGaZAU3Q7pD"
      },
      "execution_count": null,
      "outputs": []
    },
    {
      "cell_type": "code",
      "source": [
        "def test_prediction(index, W1, B1, W2, B2):\n",
        "  current_image = X_test[:, index, None]\n",
        "  prediction = make_predictions(current_image, W1, B1, W2, B2)\n",
        "  label = Y_test[index]\n",
        "  print(\"Prediction: \", prediction)\n",
        "  print(\"Label: \", label)\n",
        "\n",
        "  current_image = current_image.reshape((28, 28)) * 255\n",
        "  plt.gray()\n",
        "  plt.imshow(current_image, interpolation='nearest')\n",
        "  plt.show()"
      ],
      "metadata": {
        "id": "8L2B-OsdTXSh"
      },
      "execution_count": null,
      "outputs": []
    },
    {
      "cell_type": "code",
      "source": [
        "test_prediction(232, W1, B1, W2, B2)"
      ],
      "metadata": {
        "colab": {
          "base_uri": "https://localhost:8080/",
          "height": 465
        },
        "id": "BuArFTFqTgcM",
        "outputId": "d9f54e1a-acb0-4726-87d1-519478fb1866"
      },
      "execution_count": null,
      "outputs": [
        {
          "output_type": "stream",
          "name": "stdout",
          "text": [
            "Prediction:  [8]\n",
            "Label:  8\n"
          ]
        },
        {
          "output_type": "display_data",
          "data": {
            "text/plain": [
              "<Figure size 640x480 with 1 Axes>"
            ],
            "image/png": "[encoded data removed]"
          },
          "metadata": {}
        }
      ]
    },
    {
      "cell_type": "code",
      "source": [],
      "metadata": {
        "id": "rBwo-D6yTsva"
      },
      "execution_count": null,
      "outputs": []
    }
  ]
}